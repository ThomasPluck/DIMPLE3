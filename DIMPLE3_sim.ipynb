{
  "nbformat": 4,
  "nbformat_minor": 0,
  "metadata": {
    "colab": {
      "provenance": []
    },
    "kernelspec": {
      "name": "python3",
      "display_name": "Python 3"
    },
    "language_info": {
      "name": "python"
    }
  },
  "cells": [
    {
      "cell_type": "markdown",
      "source": [
        "# DIMPLE3 Simulation\n",
        "\n",
        "DIMPLE3 is the Euler's method extension of the ordinary DIMPLE system which aims to solve three major problems with DIMPLE:\n",
        "\n",
        "1. Exponential space requirment in coupling precision\n",
        "2. Underutilization of quadratic space in number of spins\n",
        "3. Suboptimal convergence from deterministic dynamics\n",
        "\n",
        "To this end, we propose an architecture which extends the buffer-chain DIMPLE hardware with three corresponding improvements:\n",
        "\n",
        "1. Replace coupling cell rows with single spin counters\n",
        "2. Allow for comparison between these counters via a barrel shifter\n",
        "3. Add back to spin counters with appropriate coupling weight and noise\n",
        "\n",
        "The following is an event driven simulation of the proposed architecture with which to benchmark any FPGA implementations.\n",
        "\n",
        "Presents with the following advantages:\n",
        "\n",
        "- Euler simulation requires O(N) clock cycles for N spins\n",
        "- Lin-Log Space allows for simple Trotterization via replication\n",
        "- Multiple instances of circuit only require one copy of memory to be shared\n",
        "\n",
        "Has the following disadvantages:\n",
        "\n",
        "- Comparison is expensive especially through a barrel-shifter, requiring a very high constant multiplier on the theoretical big-O lin-log term or approximation heuristics."
      ],
      "metadata": {
        "id": "P_INRfnCYATy"
      }
    },
    {
      "cell_type": "code",
      "execution_count": null,
      "metadata": {
        "id": "XX8cNQ3GX5IL"
      },
      "outputs": [],
      "source": [
        "import numpy as np\n",
        "\n",
        "num_copies = 3\n",
        "num_spins = 5\n",
        "max_state = 1 << 10\n",
        "\n",
        "def compare_adjacent_columns(arr):\n",
        "    # Get number of columns\n",
        "    n_cols = arr.shape[1]\n",
        "\n",
        "    # Initialize results array\n",
        "    comparisons = np.zeros((arr.shape[0], n_cols), dtype=bool)\n",
        "\n",
        "    # Compare each column with next column\n",
        "    for i in range(n_cols):\n",
        "        next_col = (i + 1) % n_cols  # Wrap around to 0 for last column\n",
        "        comparisons[:, i] = arr[:, i] > arr[:, next_col]\n",
        "\n",
        "    return comparisons\n",
        "\n",
        "# Replicated state registers for multiple lin-log circuits\n",
        "state_array = np.zeros((num_copies,num_spins))\n",
        "\n",
        "# For memory efficiency, we note that this will only have\n",
        "# single num_spins x num_spins or num_spins array in memory.\n",
        "coupling_array = np.ones((num_copies,num_spins,num_spins))\n",
        "drift_array = np.zeros((num_copies,num_spins))\n",
        "\n",
        "trotterization_strength = 1\n",
        "\n",
        "# For now this is empty, but you might want to simulate an LFSR, etc\n",
        "noise_generator = lambda x : np.zeros((num_copies,num_spins))\n",
        "\n",
        "loops = 100\n",
        "\n",
        "for _ in range(loops):\n",
        "\n",
        "    # We count up through the indices for each iterloop\n",
        "    # to go completely around the barrel shifter\n",
        "\n",
        "    # NOTE: one step in Euler's method for this machine takes O(#spins)\n",
        "    for i in range(spins):\n",
        "\n",
        "        # This is the action of the barrel shifter\n",
        "        rotated = np.roll(state_array, i, axis=1)\n",
        "\n",
        "        # Simpler comparison logic can be used\n",
        "        # but this is the primary function that\n",
        "        # we want to emulate in the machine.\n",
        "        comparison = state_array > rotated\n",
        "\n",
        "        # This selects the appropriate instance of memory tensor\n",
        "        circular_buffer = np.diagonal(tensor, offset=i-(spins//2), axis1=1, axis2=2)\n",
        "\n",
        "        # Adds correct members of circular buffer and adds a noise term\n",
        "        state_array += np.where(comparison,circular_buffer,0) + noise_generator()\n",
        "\n",
        "    # Add the relevant drift terms\n",
        "    state_array += drift_array\n",
        "\n",
        "    # Transmit Trotterization data\n",
        "    state_array += np.where(compare_adjacent_columns(state_array),trotterization_strength,0)\n",
        "\n",
        "    # Handle state overflow\n",
        "    state_array = state_array % max_state"
      ]
    },
    {
      "cell_type": "code",
      "source": [],
      "metadata": {
        "id": "vnD1zpft0LFM"
      },
      "execution_count": null,
      "outputs": []
    }
  ]
}